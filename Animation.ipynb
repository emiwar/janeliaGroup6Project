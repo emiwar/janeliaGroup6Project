{
 "cells": [
  {
   "cell_type": "code",
   "execution_count": 1,
   "metadata": {},
   "outputs": [
    {
     "data": {
      "text/plain": [
       "Plots.PyPlotBackend()"
      ]
     },
     "execution_count": 1,
     "metadata": {},
     "output_type": "execute_result"
    }
   ],
   "source": [
    "using Plots\n",
    "pyplot()"
   ]
  },
  {
   "cell_type": "code",
   "execution_count": 157,
   "metadata": {
    "collapsed": true
   },
   "outputs": [],
   "source": [
    "N = 100\n",
    "W0 = -.5\n",
    "W1 = 0.1;"
   ]
  },
  {
   "cell_type": "markdown",
   "metadata": {},
   "source": [
    "$\\frac{dV_i}{dt} = -V_i + \\sum_{ij} w_{ij} \\phi(V_j) + I$\n",
    "\n",
    "$w_{ij} = W_0 + 2 W_1 \\cos (x_i - x_j)$\n",
    "\n",
    "$\\phi(V_i) =[V_i]_+$"
   ]
  },
  {
   "cell_type": "code",
   "execution_count": 189,
   "metadata": {
    "scrolled": false
   },
   "outputs": [
    {
     "name": "stderr",
     "output_type": "stream",
     "text": [
      "\u001b[1m\u001b[36mINFO: \u001b[39m\u001b[22m\u001b[36mSaved animation to /home/emil/janeliaWork/tmp.gif\n",
      "\u001b[39m"
     ]
    },
    {
     "data": {
      "text/html": [
       "<img src=\"tmp.gif?0.15053358235905723>\" />"
      ],
      "text/plain": [
       "Plots.AnimatedGif(\"/home/emil/janeliaWork/tmp.gif\")"
      ]
     },
     "execution_count": 189,
     "metadata": {},
     "output_type": "execute_result"
    }
   ],
   "source": [
    "θ = 0:2π/N:2π\n",
    "W = W0 .+ 2*W1*[cos(θ[i] - θ[j]) for i=1:N, j=1:N];\n",
    "V = 1e-7*randn(size(W,1))\n",
    "T = 1000\n",
    "dt = 1e-2\n",
    "@gif for t=1:T\n",
    "    V += dt * ( -V + W*max.(0,V) + 1)\n",
    "    plot(θ, V, label=\"V\")\n",
    "    ylims!(-1.5,1.5)\n",
    "    annotate!(1,1,\"T=$(round(t*dt,2))τ\")\n",
    "    xlabel!(\"Neuron tuning\")\n",
    "    ylabel!(\"V\")\n",
    "end every 10"
   ]
  }
 ],
 "metadata": {
  "kernelspec": {
   "display_name": "Julia 0.6.1",
   "language": "julia",
   "name": "julia-0.6"
  },
  "language_info": {
   "file_extension": ".jl",
   "mimetype": "application/julia",
   "name": "julia",
   "version": "0.6.1"
  }
 },
 "nbformat": 4,
 "nbformat_minor": 2
}
